{
 "cells": [
  {
   "cell_type": "code",
   "execution_count": 33,
   "id": "f2a67211",
   "metadata": {},
   "outputs": [],
   "source": [
    "import pandas as pd\n",
    "import numpy as np\n",
    "from scipy.stats import ttest_ind\n",
    "import os\n",
    "import matplotlib.pyplot as plt\n",
    "import math as m"
   ]
  },
  {
   "cell_type": "code",
   "execution_count": 233,
   "id": "d48c4c8d",
   "metadata": {},
   "outputs": [
    {
     "name": "stdout",
     "output_type": "stream",
     "text": [
      "['Area - ions', 'Area - peptides', 'Area - proteins', 'MLR normalization', 't-test', 'sig.', 'Score', 'FDR', 'Observed RT']\n"
     ]
    }
   ],
   "source": [
    "# Create an ExcelFile object\n",
    "file = pd.ExcelFile('A549_A16 treatment_660126.xlsx')\n",
    "sheet_names = file.sheet_names\n",
    "print(sheet_names)"
   ]
  },
  {
   "cell_type": "code",
   "execution_count": 234,
   "id": "ea58c656",
   "metadata": {},
   "outputs": [],
   "source": [
    "os.chdir(r'E:\\Proteomics_analysis')\n",
    "df = pd.read_excel(\"A549_A16 treatment_660126.xlsx\", sheet_name='t-test')"
   ]
  },
  {
   "cell_type": "code",
   "execution_count": 235,
   "id": "9ab49bfc",
   "metadata": {},
   "outputs": [],
   "source": [
    "#df = df.fillna(0)"
   ]
  },
  {
   "cell_type": "code",
   "execution_count": 236,
   "id": "17084f15",
   "metadata": {},
   "outputs": [],
   "source": [
    "df.to_csv(\"A549_A16 treatment_660126_t-test.csv\", index = None, header =True)\n",
    "df = pd.read_csv(\"A549_A16 treatment_660126_t-test.csv\")"
   ]
  },
  {
   "cell_type": "code",
   "execution_count": 237,
   "id": "3c1b07cb",
   "metadata": {
    "scrolled": true
   },
   "outputs": [
    {
     "data": {
      "text/html": [
       "<div>\n",
       "<style scoped>\n",
       "    .dataframe tbody tr th:only-of-type {\n",
       "        vertical-align: middle;\n",
       "    }\n",
       "\n",
       "    .dataframe tbody tr th {\n",
       "        vertical-align: top;\n",
       "    }\n",
       "\n",
       "    .dataframe thead th {\n",
       "        text-align: right;\n",
       "    }\n",
       "</style>\n",
       "<table border=\"1\" class=\"dataframe\">\n",
       "  <thead>\n",
       "    <tr style=\"text-align: right;\">\n",
       "      <th></th>\n",
       "      <th>Peak Name</th>\n",
       "      <th>m/z</th>\n",
       "      <th>Ret. Time</th>\n",
       "      <th>Group</th>\n",
       "      <th>Use</th>\n",
       "      <th>t-value</th>\n",
       "      <th>p-value</th>\n",
       "      <th>Log (p)</th>\n",
       "      <th>Mean 1</th>\n",
       "      <th>Mean 2</th>\n",
       "      <th>Median 1</th>\n",
       "      <th>Median 2</th>\n",
       "      <th>Sigma 1</th>\n",
       "      <th>Sigma 2</th>\n",
       "      <th>Delta</th>\n",
       "      <th>Fold Change</th>\n",
       "      <th>Log (Fold Change)</th>\n",
       "    </tr>\n",
       "  </thead>\n",
       "  <tbody>\n",
       "    <tr>\n",
       "      <th>0</th>\n",
       "      <td>sp|P23284|PPIB_HUMAN</td>\n",
       "      <td>NaN</td>\n",
       "      <td>NaN</td>\n",
       "      <td>Peptidyl-prolyl cis-trans isomerase B OS=Homo ...</td>\n",
       "      <td>True</td>\n",
       "      <td>27.595672</td>\n",
       "      <td>0.00001</td>\n",
       "      <td>-4.982059</td>\n",
       "      <td>114063.030113</td>\n",
       "      <td>5440.307229</td>\n",
       "      <td>116040.817729</td>\n",
       "      <td>6737.091935</td>\n",
       "      <td>4717.824953</td>\n",
       "      <td>4921.756404</td>\n",
       "      <td>108622.722885</td>\n",
       "      <td>20.9662846821696</td>\n",
       "      <td>1.32152147839156</td>\n",
       "    </tr>\n",
       "  </tbody>\n",
       "</table>\n",
       "</div>"
      ],
      "text/plain": [
       "              Peak Name  m/z  Ret. Time   \n",
       "0  sp|P23284|PPIB_HUMAN  NaN        NaN  \\\n",
       "\n",
       "                                               Group   Use    t-value   \n",
       "0  Peptidyl-prolyl cis-trans isomerase B OS=Homo ...  True  27.595672  \\\n",
       "\n",
       "   p-value   Log (p)         Mean 1       Mean 2       Median 1     Median 2   \n",
       "0  0.00001 -4.982059  114063.030113  5440.307229  116040.817729  6737.091935  \\\n",
       "\n",
       "       Sigma 1      Sigma 2          Delta       Fold Change Log (Fold Change)  \n",
       "0  4717.824953  4921.756404  108622.722885  20.9662846821696  1.32152147839156  "
      ]
     },
     "execution_count": 237,
     "metadata": {},
     "output_type": "execute_result"
    }
   ],
   "source": [
    "df.head(1)"
   ]
  },
  {
   "cell_type": "code",
   "execution_count": 238,
   "id": "cdb24740",
   "metadata": {},
   "outputs": [
    {
     "data": {
      "text/plain": [
       "(739, 17)"
      ]
     },
     "execution_count": 238,
     "metadata": {},
     "output_type": "execute_result"
    }
   ],
   "source": [
    "df.shape"
   ]
  },
  {
   "cell_type": "code",
   "execution_count": 239,
   "id": "d2012482",
   "metadata": {},
   "outputs": [],
   "source": [
    "df1 = df[pd.to_numeric(df['Fold Change'], errors='coerce').notnull()]"
   ]
  },
  {
   "cell_type": "code",
   "execution_count": 240,
   "id": "fe163549",
   "metadata": {},
   "outputs": [
    {
     "data": {
      "text/plain": [
       "(690, 17)"
      ]
     },
     "execution_count": 240,
     "metadata": {},
     "output_type": "execute_result"
    }
   ],
   "source": [
    "df1.shape"
   ]
  },
  {
   "cell_type": "code",
   "execution_count": 241,
   "id": "a0831a24",
   "metadata": {},
   "outputs": [],
   "source": [
    "#df1.to_csv(\"test.csv\", index = None, header =True)"
   ]
  },
  {
   "cell_type": "code",
   "execution_count": 242,
   "id": "7599383e",
   "metadata": {},
   "outputs": [],
   "source": [
    "#df1 = df[df['Fold Change'] != 0]\n",
    "df1 = df1.copy()\n",
    "df1['Fold Change'] = pd.to_numeric(df1['Fold Change'])\n",
    "df1['log2(fold change)'] = df1['Fold Change'].apply(np.log2)\n",
    "df1['\"-log10(p-value)\"'] = -1 * df1['p-value'].apply(np.log10)"
   ]
  },
  {
   "cell_type": "code",
   "execution_count": 243,
   "id": "21afb374",
   "metadata": {},
   "outputs": [
    {
     "data": {
      "text/html": [
       "<div>\n",
       "<style scoped>\n",
       "    .dataframe tbody tr th:only-of-type {\n",
       "        vertical-align: middle;\n",
       "    }\n",
       "\n",
       "    .dataframe tbody tr th {\n",
       "        vertical-align: top;\n",
       "    }\n",
       "\n",
       "    .dataframe thead th {\n",
       "        text-align: right;\n",
       "    }\n",
       "</style>\n",
       "<table border=\"1\" class=\"dataframe\">\n",
       "  <thead>\n",
       "    <tr style=\"text-align: right;\">\n",
       "      <th></th>\n",
       "      <th>Peak Name</th>\n",
       "      <th>m/z</th>\n",
       "      <th>Ret. Time</th>\n",
       "      <th>Group</th>\n",
       "      <th>Use</th>\n",
       "      <th>t-value</th>\n",
       "      <th>p-value</th>\n",
       "      <th>Log (p)</th>\n",
       "      <th>Mean 1</th>\n",
       "      <th>Mean 2</th>\n",
       "      <th>Median 1</th>\n",
       "      <th>Median 2</th>\n",
       "      <th>Sigma 1</th>\n",
       "      <th>Sigma 2</th>\n",
       "      <th>Delta</th>\n",
       "      <th>Fold Change</th>\n",
       "      <th>Log (Fold Change)</th>\n",
       "      <th>log2(fold change)</th>\n",
       "      <th>\"-log10(p-value)\"</th>\n",
       "    </tr>\n",
       "  </thead>\n",
       "  <tbody>\n",
       "    <tr>\n",
       "      <th>0</th>\n",
       "      <td>sp|P23284|PPIB_HUMAN</td>\n",
       "      <td>NaN</td>\n",
       "      <td>NaN</td>\n",
       "      <td>Peptidyl-prolyl cis-trans isomerase B OS=Homo ...</td>\n",
       "      <td>True</td>\n",
       "      <td>27.595672</td>\n",
       "      <td>0.00001</td>\n",
       "      <td>-4.982059</td>\n",
       "      <td>114063.030113</td>\n",
       "      <td>5440.307229</td>\n",
       "      <td>116040.817729</td>\n",
       "      <td>6737.091935</td>\n",
       "      <td>4717.824953</td>\n",
       "      <td>4921.756404</td>\n",
       "      <td>108622.722885</td>\n",
       "      <td>20.966285</td>\n",
       "      <td>1.32152147839156</td>\n",
       "      <td>4.389999</td>\n",
       "      <td>4.982059</td>\n",
       "    </tr>\n",
       "  </tbody>\n",
       "</table>\n",
       "</div>"
      ],
      "text/plain": [
       "              Peak Name  m/z  Ret. Time   \n",
       "0  sp|P23284|PPIB_HUMAN  NaN        NaN  \\\n",
       "\n",
       "                                               Group   Use    t-value   \n",
       "0  Peptidyl-prolyl cis-trans isomerase B OS=Homo ...  True  27.595672  \\\n",
       "\n",
       "   p-value   Log (p)         Mean 1       Mean 2       Median 1     Median 2   \n",
       "0  0.00001 -4.982059  114063.030113  5440.307229  116040.817729  6737.091935  \\\n",
       "\n",
       "       Sigma 1      Sigma 2          Delta  Fold Change Log (Fold Change)   \n",
       "0  4717.824953  4921.756404  108622.722885    20.966285  1.32152147839156  \\\n",
       "\n",
       "   log2(fold change)  \"-log10(p-value)\"  \n",
       "0           4.389999           4.982059  "
      ]
     },
     "execution_count": 243,
     "metadata": {},
     "output_type": "execute_result"
    }
   ],
   "source": [
    "df1.head(1)"
   ]
  },
  {
   "cell_type": "code",
   "execution_count": 244,
   "id": "a8bcefe2",
   "metadata": {},
   "outputs": [],
   "source": [
    "df1['Protein'] = df1['Peak Name'].str.split('|').str[2].str.split('_').str[0]"
   ]
  },
  {
   "cell_type": "code",
   "execution_count": 245,
   "id": "dee9b511",
   "metadata": {},
   "outputs": [
    {
     "data": {
      "text/html": [
       "<div>\n",
       "<style scoped>\n",
       "    .dataframe tbody tr th:only-of-type {\n",
       "        vertical-align: middle;\n",
       "    }\n",
       "\n",
       "    .dataframe tbody tr th {\n",
       "        vertical-align: top;\n",
       "    }\n",
       "\n",
       "    .dataframe thead th {\n",
       "        text-align: right;\n",
       "    }\n",
       "</style>\n",
       "<table border=\"1\" class=\"dataframe\">\n",
       "  <thead>\n",
       "    <tr style=\"text-align: right;\">\n",
       "      <th></th>\n",
       "      <th>Peak Name</th>\n",
       "      <th>m/z</th>\n",
       "      <th>Ret. Time</th>\n",
       "      <th>Group</th>\n",
       "      <th>Use</th>\n",
       "      <th>t-value</th>\n",
       "      <th>p-value</th>\n",
       "      <th>Log (p)</th>\n",
       "      <th>Mean 1</th>\n",
       "      <th>Mean 2</th>\n",
       "      <th>Median 1</th>\n",
       "      <th>Median 2</th>\n",
       "      <th>Sigma 1</th>\n",
       "      <th>Sigma 2</th>\n",
       "      <th>Delta</th>\n",
       "      <th>Fold Change</th>\n",
       "      <th>Log (Fold Change)</th>\n",
       "      <th>log2(fold change)</th>\n",
       "      <th>\"-log10(p-value)\"</th>\n",
       "      <th>Protein</th>\n",
       "    </tr>\n",
       "  </thead>\n",
       "  <tbody>\n",
       "    <tr>\n",
       "      <th>0</th>\n",
       "      <td>sp|P23284|PPIB_HUMAN</td>\n",
       "      <td>NaN</td>\n",
       "      <td>NaN</td>\n",
       "      <td>Peptidyl-prolyl cis-trans isomerase B OS=Homo ...</td>\n",
       "      <td>True</td>\n",
       "      <td>27.595672</td>\n",
       "      <td>0.00001</td>\n",
       "      <td>-4.982059</td>\n",
       "      <td>114063.030113</td>\n",
       "      <td>5440.307229</td>\n",
       "      <td>116040.817729</td>\n",
       "      <td>6737.091935</td>\n",
       "      <td>4717.824953</td>\n",
       "      <td>4921.756404</td>\n",
       "      <td>108622.722885</td>\n",
       "      <td>20.966285</td>\n",
       "      <td>1.32152147839156</td>\n",
       "      <td>4.389999</td>\n",
       "      <td>4.982059</td>\n",
       "      <td>PPIB</td>\n",
       "    </tr>\n",
       "  </tbody>\n",
       "</table>\n",
       "</div>"
      ],
      "text/plain": [
       "              Peak Name  m/z  Ret. Time   \n",
       "0  sp|P23284|PPIB_HUMAN  NaN        NaN  \\\n",
       "\n",
       "                                               Group   Use    t-value   \n",
       "0  Peptidyl-prolyl cis-trans isomerase B OS=Homo ...  True  27.595672  \\\n",
       "\n",
       "   p-value   Log (p)         Mean 1       Mean 2       Median 1     Median 2   \n",
       "0  0.00001 -4.982059  114063.030113  5440.307229  116040.817729  6737.091935  \\\n",
       "\n",
       "       Sigma 1      Sigma 2          Delta  Fold Change Log (Fold Change)   \n",
       "0  4717.824953  4921.756404  108622.722885    20.966285  1.32152147839156  \\\n",
       "\n",
       "   log2(fold change)  \"-log10(p-value)\" Protein  \n",
       "0           4.389999           4.982059    PPIB  "
      ]
     },
     "execution_count": 245,
     "metadata": {},
     "output_type": "execute_result"
    }
   ],
   "source": [
    "df1.head(1)"
   ]
  },
  {
   "cell_type": "code",
   "execution_count": 246,
   "id": "263d70e4",
   "metadata": {},
   "outputs": [
    {
     "data": {
      "image/png": "[encoded data removed]",
      "text/plain": [
       "<Figure size 640x480 with 1 Axes>"
      ]
     },
     "metadata": {},
     "output_type": "display_data"
    }
   ],
   "source": [
    "# calculate log2(fold change) and -log10(p-value)\n",
    "#df1['log2(fold change)']\n",
    "#df1['\"-log10(p-value)\"'] = -1 * df1['p-value'].apply(np.log10)\n",
    "#df1['\"-log10(p-value)\"']\n",
    "\n",
    "# filter rows where p-value is less than 0.05\n",
    "significant_peaks = df1[df1['p-value'] < 0.05]\n",
    "\n",
    "# set up plot\n",
    "fig, ax = plt.subplots()\n",
    "ax.scatter(df1['log2(fold change)'], df1['\"-log10(p-value)\"'], color='blue', label='Non-significant')\n",
    "ax.scatter(significant_peaks['log2(fold change)'], significant_peaks['\"-log10(p-value)\"'], color='red', label='Significant')\n",
    "ax.axhline(y=-np.log10(0.05), color='gray', linestyle='--')\n",
    "ax.axvline(x=1, color='gray', linestyle='--')\n",
    "ax.axvline(x=-1, color='gray', linestyle='--')\n",
    "ax.set_xlabel('log2(fold change)')\n",
    "ax.set_ylabel('-log10(p-value)')\n",
    "ax.set_title('Volcano plot')\n",
    "ax.legend()\n",
    "\n",
    "# add text labels for significant peaks\n",
    "for idx, row in significant_peaks.iterrows():\n",
    "    ax.text(row['log2(fold change)'], row['\"-log10(p-value)\"'], row['Protein'], fontsize=6)\n",
    "\n",
    "# show plot\n",
    "#plt.show()\n",
    "plt.savefig('volcano_plot.png', dpi=300, bbox_inches='tight')"
   ]
  },
  {
   "cell_type": "code",
   "execution_count": 247,
   "id": "40999a0d",
   "metadata": {},
   "outputs": [
    {
     "name": "stdout",
     "output_type": "stream",
     "text": [
      "Number of significant peaks: 94\n"
     ]
    }
   ],
   "source": [
    "# count number of significant peaks\n",
    "num_significant_peaks = len(significant_peaks)\n",
    "\n",
    "print(f\"Number of significant peaks: {num_significant_peaks}\")"
   ]
  },
  {
   "cell_type": "code",
   "execution_count": 248,
   "id": "102f8afb",
   "metadata": {},
   "outputs": [],
   "source": [
    "df1_sp = df1[df1['p-value'] < 0.05].sort_values(by=['p-value'], ascending=True)\n",
    "df1_sp.to_csv('significant_peaks_remove_zero.csv', index=False, header=True)"
   ]
  },
  {
   "cell_type": "code",
   "execution_count": 249,
   "id": "e7a97410",
   "metadata": {},
   "outputs": [],
   "source": [
    "df_sp = df[df['p-value'] < 0.05].sort_values(by=['p-value'], ascending=True)\n",
    "df_sp.to_csv('significant_peaks.csv', index=False, header=True)"
   ]
  },
  {
   "cell_type": "code",
   "execution_count": 296,
   "id": "a1e9ef7f",
   "metadata": {},
   "outputs": [],
   "source": [
    "os.chdir(r'E:\\Proteomics_analysis')\n",
    "df_MLR = pd.read_excel(\"A549_A16 treatment_660126.xlsx\", sheet_name='MLR normalization')"
   ]
  },
  {
   "cell_type": "code",
   "execution_count": 297,
   "id": "cd5d62ec",
   "metadata": {},
   "outputs": [],
   "source": [
    "df_MLR.to_csv(\"A549_A16 treatment_660126_MLR.csv\", index = None, header =True)\n",
    "df_MLR = pd.read_csv(\"A549_A16 treatment_660126_MLR.csv\")"
   ]
  },
  {
   "cell_type": "code",
   "execution_count": 298,
   "id": "fc3674ac",
   "metadata": {},
   "outputs": [
    {
     "data": {
      "text/html": [
       "<div>\n",
       "<style scoped>\n",
       "    .dataframe tbody tr th:only-of-type {\n",
       "        vertical-align: middle;\n",
       "    }\n",
       "\n",
       "    .dataframe tbody tr th {\n",
       "        vertical-align: top;\n",
       "    }\n",
       "\n",
       "    .dataframe thead th {\n",
       "        text-align: right;\n",
       "    }\n",
       "</style>\n",
       "<table border=\"1\" class=\"dataframe\">\n",
       "  <thead>\n",
       "    <tr style=\"text-align: right;\">\n",
       "      <th></th>\n",
       "      <th>Sample Name</th>\n",
       "      <th>A549_A16treatment_SWATH_1</th>\n",
       "      <th>A549_A16treatment_SWATH_2</th>\n",
       "      <th>A549_A16treatment_SWATH_3</th>\n",
       "      <th>A549_nontreatment_SWATH_3</th>\n",
       "      <th>A549_nontreatment_SWATH_1</th>\n",
       "      <th>A549_nontreatment_SWATH_2</th>\n",
       "    </tr>\n",
       "  </thead>\n",
       "  <tbody>\n",
       "    <tr>\n",
       "      <th>0</th>\n",
       "      <td>Sample ID</td>\n",
       "      <td>NaN</td>\n",
       "      <td>NaN</td>\n",
       "      <td>NaN</td>\n",
       "      <td>NaN</td>\n",
       "      <td>NaN</td>\n",
       "      <td>NaN</td>\n",
       "    </tr>\n",
       "    <tr>\n",
       "      <th>1</th>\n",
       "      <td>Group</td>\n",
       "      <td>NaN</td>\n",
       "      <td>NaN</td>\n",
       "      <td>NaN</td>\n",
       "      <td>NaN</td>\n",
       "      <td>NaN</td>\n",
       "      <td>NaN</td>\n",
       "    </tr>\n",
       "    <tr>\n",
       "      <th>2</th>\n",
       "      <td>sp|Q15149|PLEC_HUMAN_group_Plectin OS=Homo sap...</td>\n",
       "      <td>255590.0</td>\n",
       "      <td>361330.0</td>\n",
       "      <td>300570.0</td>\n",
       "      <td>961250.0</td>\n",
       "      <td>1282500.0</td>\n",
       "      <td>187090.0</td>\n",
       "    </tr>\n",
       "    <tr>\n",
       "      <th>3</th>\n",
       "      <td>sp|Q09666|AHNK_HUMAN_group_Neuroblast differen...</td>\n",
       "      <td>254440.0</td>\n",
       "      <td>304190.0</td>\n",
       "      <td>274570.0</td>\n",
       "      <td>736800.0</td>\n",
       "      <td>834440.0</td>\n",
       "      <td>384830.0</td>\n",
       "    </tr>\n",
       "    <tr>\n",
       "      <th>4</th>\n",
       "      <td>sp|P21333|FLNA_HUMAN_group_Filamin-A OS=Homo s...</td>\n",
       "      <td>1123000.0</td>\n",
       "      <td>959120.0</td>\n",
       "      <td>1063100.0</td>\n",
       "      <td>1069100.0</td>\n",
       "      <td>1179800.0</td>\n",
       "      <td>898420.0</td>\n",
       "    </tr>\n",
       "  </tbody>\n",
       "</table>\n",
       "</div>"
      ],
      "text/plain": [
       "                                         Sample Name   \n",
       "0                                          Sample ID  \\\n",
       "1                                              Group   \n",
       "2  sp|Q15149|PLEC_HUMAN_group_Plectin OS=Homo sap...   \n",
       "3  sp|Q09666|AHNK_HUMAN_group_Neuroblast differen...   \n",
       "4  sp|P21333|FLNA_HUMAN_group_Filamin-A OS=Homo s...   \n",
       "\n",
       "   A549_A16treatment_SWATH_1  A549_A16treatment_SWATH_2   \n",
       "0                        NaN                        NaN  \\\n",
       "1                        NaN                        NaN   \n",
       "2                   255590.0                   361330.0   \n",
       "3                   254440.0                   304190.0   \n",
       "4                  1123000.0                   959120.0   \n",
       "\n",
       "   A549_A16treatment_SWATH_3  A549_nontreatment_SWATH_3   \n",
       "0                        NaN                        NaN  \\\n",
       "1                        NaN                        NaN   \n",
       "2                   300570.0                   961250.0   \n",
       "3                   274570.0                   736800.0   \n",
       "4                  1063100.0                  1069100.0   \n",
       "\n",
       "   A549_nontreatment_SWATH_1  A549_nontreatment_SWATH_2  \n",
       "0                        NaN                        NaN  \n",
       "1                        NaN                        NaN  \n",
       "2                  1282500.0                   187090.0  \n",
       "3                   834440.0                   384830.0  \n",
       "4                  1179800.0                   898420.0  "
      ]
     },
     "execution_count": 298,
     "metadata": {},
     "output_type": "execute_result"
    }
   ],
   "source": [
    "df_MLR.head(5)"
   ]
  },
  {
   "cell_type": "code",
   "execution_count": 302,
   "id": "6c91cd58",
   "metadata": {
    "scrolled": true
   },
   "outputs": [],
   "source": [
    "df_MLR = df_MLR.dropna(subset=[df_MLR.columns[1]])"
   ]
  },
  {
   "cell_type": "code",
   "execution_count": 303,
   "id": "db02091e",
   "metadata": {},
   "outputs": [
    {
     "data": {
      "text/html": [
       "<div>\n",
       "<style scoped>\n",
       "    .dataframe tbody tr th:only-of-type {\n",
       "        vertical-align: middle;\n",
       "    }\n",
       "\n",
       "    .dataframe tbody tr th {\n",
       "        vertical-align: top;\n",
       "    }\n",
       "\n",
       "    .dataframe thead th {\n",
       "        text-align: right;\n",
       "    }\n",
       "</style>\n",
       "<table border=\"1\" class=\"dataframe\">\n",
       "  <thead>\n",
       "    <tr style=\"text-align: right;\">\n",
       "      <th></th>\n",
       "      <th>Sample Name</th>\n",
       "      <th>A549_A16treatment_SWATH_1</th>\n",
       "      <th>A549_A16treatment_SWATH_2</th>\n",
       "      <th>A549_A16treatment_SWATH_3</th>\n",
       "      <th>A549_nontreatment_SWATH_3</th>\n",
       "      <th>A549_nontreatment_SWATH_1</th>\n",
       "      <th>A549_nontreatment_SWATH_2</th>\n",
       "    </tr>\n",
       "  </thead>\n",
       "  <tbody>\n",
       "    <tr>\n",
       "      <th>2</th>\n",
       "      <td>sp|Q15149|PLEC_HUMAN_group_Plectin OS=Homo sap...</td>\n",
       "      <td>255590.0</td>\n",
       "      <td>361330.0</td>\n",
       "      <td>300570.0</td>\n",
       "      <td>961250.0</td>\n",
       "      <td>1282500.0</td>\n",
       "      <td>187090.0</td>\n",
       "    </tr>\n",
       "    <tr>\n",
       "      <th>3</th>\n",
       "      <td>sp|Q09666|AHNK_HUMAN_group_Neuroblast differen...</td>\n",
       "      <td>254440.0</td>\n",
       "      <td>304190.0</td>\n",
       "      <td>274570.0</td>\n",
       "      <td>736800.0</td>\n",
       "      <td>834440.0</td>\n",
       "      <td>384830.0</td>\n",
       "    </tr>\n",
       "    <tr>\n",
       "      <th>4</th>\n",
       "      <td>sp|P21333|FLNA_HUMAN_group_Filamin-A OS=Homo s...</td>\n",
       "      <td>1123000.0</td>\n",
       "      <td>959120.0</td>\n",
       "      <td>1063100.0</td>\n",
       "      <td>1069100.0</td>\n",
       "      <td>1179800.0</td>\n",
       "      <td>898420.0</td>\n",
       "    </tr>\n",
       "    <tr>\n",
       "      <th>5</th>\n",
       "      <td>sp|P35579|MYH9_HUMAN_group_Myosin-9 OS=Homo sa...</td>\n",
       "      <td>487560.0</td>\n",
       "      <td>407750.0</td>\n",
       "      <td>391030.0</td>\n",
       "      <td>269380.0</td>\n",
       "      <td>352830.0</td>\n",
       "      <td>285860.0</td>\n",
       "    </tr>\n",
       "  </tbody>\n",
       "</table>\n",
       "</div>"
      ],
      "text/plain": [
       "                                         Sample Name   \n",
       "2  sp|Q15149|PLEC_HUMAN_group_Plectin OS=Homo sap...  \\\n",
       "3  sp|Q09666|AHNK_HUMAN_group_Neuroblast differen...   \n",
       "4  sp|P21333|FLNA_HUMAN_group_Filamin-A OS=Homo s...   \n",
       "5  sp|P35579|MYH9_HUMAN_group_Myosin-9 OS=Homo sa...   \n",
       "\n",
       "   A549_A16treatment_SWATH_1  A549_A16treatment_SWATH_2   \n",
       "2                   255590.0                   361330.0  \\\n",
       "3                   254440.0                   304190.0   \n",
       "4                  1123000.0                   959120.0   \n",
       "5                   487560.0                   407750.0   \n",
       "\n",
       "   A549_A16treatment_SWATH_3  A549_nontreatment_SWATH_3   \n",
       "2                   300570.0                   961250.0  \\\n",
       "3                   274570.0                   736800.0   \n",
       "4                  1063100.0                  1069100.0   \n",
       "5                   391030.0                   269380.0   \n",
       "\n",
       "   A549_nontreatment_SWATH_1  A549_nontreatment_SWATH_2  \n",
       "2                  1282500.0                   187090.0  \n",
       "3                   834440.0                   384830.0  \n",
       "4                  1179800.0                   898420.0  \n",
       "5                   352830.0                   285860.0  "
      ]
     },
     "execution_count": 303,
     "metadata": {},
     "output_type": "execute_result"
    }
   ],
   "source": [
    "df_MLR.head(4)"
   ]
  },
  {
   "cell_type": "code",
   "execution_count": 304,
   "id": "8d2d34b5",
   "metadata": {},
   "outputs": [],
   "source": [
    "df_MLR['A16treatment_mean'] = df_MLR[['A549_A16treatment_SWATH_1', 'A549_A16treatment_SWATH_2', 'A549_A16treatment_SWATH_3']].mean(axis=1)\n",
    "df_MLR['nontreatment_mean'] = df_MLR[['A549_nontreatment_SWATH_1', 'A549_nontreatment_SWATH_2', 'A549_nontreatment_SWATH_3']].mean(axis=1)"
   ]
  },
  {
   "cell_type": "code",
   "execution_count": 305,
   "id": "e6d62bdf",
   "metadata": {},
   "outputs": [],
   "source": [
    "from scipy.stats import ttest_ind\n",
    "df_MLR['t_test'], df_MLR['p_value'] = ttest_ind(df_MLR[['A549_A16treatment_SWATH_1', 'A549_A16treatment_SWATH_2', 'A549_A16treatment_SWATH_3']], df_MLR[['A549_nontreatment_SWATH_1', 'A549_nontreatment_SWATH_2', 'A549_nontreatment_SWATH_3']], axis=1)"
   ]
  },
  {
   "cell_type": "code",
   "execution_count": 306,
   "id": "5e94ac88",
   "metadata": {},
   "outputs": [
    {
     "data": {
      "text/html": [
       "<div>\n",
       "<style scoped>\n",
       "    .dataframe tbody tr th:only-of-type {\n",
       "        vertical-align: middle;\n",
       "    }\n",
       "\n",
       "    .dataframe tbody tr th {\n",
       "        vertical-align: top;\n",
       "    }\n",
       "\n",
       "    .dataframe thead th {\n",
       "        text-align: right;\n",
       "    }\n",
       "</style>\n",
       "<table border=\"1\" class=\"dataframe\">\n",
       "  <thead>\n",
       "    <tr style=\"text-align: right;\">\n",
       "      <th></th>\n",
       "      <th>Sample Name</th>\n",
       "      <th>A549_A16treatment_SWATH_1</th>\n",
       "      <th>A549_A16treatment_SWATH_2</th>\n",
       "      <th>A549_A16treatment_SWATH_3</th>\n",
       "      <th>A549_nontreatment_SWATH_3</th>\n",
       "      <th>A549_nontreatment_SWATH_1</th>\n",
       "      <th>A549_nontreatment_SWATH_2</th>\n",
       "      <th>A16treatment_mean</th>\n",
       "      <th>nontreatment_mean</th>\n",
       "      <th>t_test</th>\n",
       "      <th>p_value</th>\n",
       "    </tr>\n",
       "  </thead>\n",
       "  <tbody>\n",
       "    <tr>\n",
       "      <th>2</th>\n",
       "      <td>sp|Q15149|PLEC_HUMAN_group_Plectin OS=Homo sap...</td>\n",
       "      <td>255590.0</td>\n",
       "      <td>361330.0</td>\n",
       "      <td>300570.0</td>\n",
       "      <td>961250.0</td>\n",
       "      <td>1282500.0</td>\n",
       "      <td>187090.0</td>\n",
       "      <td>3.058300e+05</td>\n",
       "      <td>8.102800e+05</td>\n",
       "      <td>-1.544820</td>\n",
       "      <td>0.197277</td>\n",
       "    </tr>\n",
       "    <tr>\n",
       "      <th>3</th>\n",
       "      <td>sp|Q09666|AHNK_HUMAN_group_Neuroblast differen...</td>\n",
       "      <td>254440.0</td>\n",
       "      <td>304190.0</td>\n",
       "      <td>274570.0</td>\n",
       "      <td>736800.0</td>\n",
       "      <td>834440.0</td>\n",
       "      <td>384830.0</td>\n",
       "      <td>2.777333e+05</td>\n",
       "      <td>6.520233e+05</td>\n",
       "      <td>-2.726074</td>\n",
       "      <td>0.052656</td>\n",
       "    </tr>\n",
       "    <tr>\n",
       "      <th>4</th>\n",
       "      <td>sp|P21333|FLNA_HUMAN_group_Filamin-A OS=Homo s...</td>\n",
       "      <td>1123000.0</td>\n",
       "      <td>959120.0</td>\n",
       "      <td>1063100.0</td>\n",
       "      <td>1069100.0</td>\n",
       "      <td>1179800.0</td>\n",
       "      <td>898420.0</td>\n",
       "      <td>1.048407e+06</td>\n",
       "      <td>1.049107e+06</td>\n",
       "      <td>-0.007383</td>\n",
       "      <td>0.994463</td>\n",
       "    </tr>\n",
       "    <tr>\n",
       "      <th>5</th>\n",
       "      <td>sp|P35579|MYH9_HUMAN_group_Myosin-9 OS=Homo sa...</td>\n",
       "      <td>487560.0</td>\n",
       "      <td>407750.0</td>\n",
       "      <td>391030.0</td>\n",
       "      <td>269380.0</td>\n",
       "      <td>352830.0</td>\n",
       "      <td>285860.0</td>\n",
       "      <td>4.287800e+05</td>\n",
       "      <td>3.026900e+05</td>\n",
       "      <td>3.214944</td>\n",
       "      <td>0.032436</td>\n",
       "    </tr>\n",
       "  </tbody>\n",
       "</table>\n",
       "</div>"
      ],
      "text/plain": [
       "                                         Sample Name   \n",
       "2  sp|Q15149|PLEC_HUMAN_group_Plectin OS=Homo sap...  \\\n",
       "3  sp|Q09666|AHNK_HUMAN_group_Neuroblast differen...   \n",
       "4  sp|P21333|FLNA_HUMAN_group_Filamin-A OS=Homo s...   \n",
       "5  sp|P35579|MYH9_HUMAN_group_Myosin-9 OS=Homo sa...   \n",
       "\n",
       "   A549_A16treatment_SWATH_1  A549_A16treatment_SWATH_2   \n",
       "2                   255590.0                   361330.0  \\\n",
       "3                   254440.0                   304190.0   \n",
       "4                  1123000.0                   959120.0   \n",
       "5                   487560.0                   407750.0   \n",
       "\n",
       "   A549_A16treatment_SWATH_3  A549_nontreatment_SWATH_3   \n",
       "2                   300570.0                   961250.0  \\\n",
       "3                   274570.0                   736800.0   \n",
       "4                  1063100.0                  1069100.0   \n",
       "5                   391030.0                   269380.0   \n",
       "\n",
       "   A549_nontreatment_SWATH_1  A549_nontreatment_SWATH_2  A16treatment_mean   \n",
       "2                  1282500.0                   187090.0       3.058300e+05  \\\n",
       "3                   834440.0                   384830.0       2.777333e+05   \n",
       "4                  1179800.0                   898420.0       1.048407e+06   \n",
       "5                   352830.0                   285860.0       4.287800e+05   \n",
       "\n",
       "   nontreatment_mean    t_test   p_value  \n",
       "2       8.102800e+05 -1.544820  0.197277  \n",
       "3       6.520233e+05 -2.726074  0.052656  \n",
       "4       1.049107e+06 -0.007383  0.994463  \n",
       "5       3.026900e+05  3.214944  0.032436  "
      ]
     },
     "execution_count": 306,
     "metadata": {},
     "output_type": "execute_result"
    }
   ],
   "source": [
    "df_MLR.head(4)"
   ]
  },
  {
   "cell_type": "code",
   "execution_count": 307,
   "id": "bae68519",
   "metadata": {},
   "outputs": [
    {
     "data": {
      "text/plain": [
       "(739, 11)"
      ]
     },
     "execution_count": 307,
     "metadata": {},
     "output_type": "execute_result"
    }
   ],
   "source": [
    "df_MLR.shape"
   ]
  },
  {
   "cell_type": "code",
   "execution_count": 308,
   "id": "5b743676",
   "metadata": {},
   "outputs": [],
   "source": [
    "df_MLRrm = df_MLR[df_MLR['nontreatment_mean'] != 0]"
   ]
  },
  {
   "cell_type": "code",
   "execution_count": 309,
   "id": "b6a5ed8a",
   "metadata": {},
   "outputs": [
    {
     "data": {
      "text/plain": [
       "(690, 11)"
      ]
     },
     "execution_count": 309,
     "metadata": {},
     "output_type": "execute_result"
    }
   ],
   "source": [
    "df_MLRrm.shape"
   ]
  },
  {
   "cell_type": "code",
   "execution_count": 310,
   "id": "aa0de7db",
   "metadata": {
    "scrolled": true
   },
   "outputs": [],
   "source": [
    "df_MLRrm = df_MLRrm.copy()\n",
    "df_MLRrm['FC_ACP/contrl'] = df_MLRrm['A16treatment_mean']/df_MLR['nontreatment_mean']\n",
    "df_MLRrm['log2(FC_ACP/contrl)'] = df_MLRrm['FC_ACP/contrl'].apply(np.log2)\n",
    "df_MLRrm['\"-log10(p_value)\"'] = -1 * df_MLRrm['p_value'].apply(np.log10)\n",
    "df_MLRrm['Protein'] = df_MLRrm['Sample Name'].str.split('|').str[2].str.split('_').str[0]"
   ]
  },
  {
   "cell_type": "code",
   "execution_count": 311,
   "id": "565c8f21",
   "metadata": {},
   "outputs": [
    {
     "data": {
      "text/html": [
       "<div>\n",
       "<style scoped>\n",
       "    .dataframe tbody tr th:only-of-type {\n",
       "        vertical-align: middle;\n",
       "    }\n",
       "\n",
       "    .dataframe tbody tr th {\n",
       "        vertical-align: top;\n",
       "    }\n",
       "\n",
       "    .dataframe thead th {\n",
       "        text-align: right;\n",
       "    }\n",
       "</style>\n",
       "<table border=\"1\" class=\"dataframe\">\n",
       "  <thead>\n",
       "    <tr style=\"text-align: right;\">\n",
       "      <th></th>\n",
       "      <th>Sample Name</th>\n",
       "      <th>A549_A16treatment_SWATH_1</th>\n",
       "      <th>A549_A16treatment_SWATH_2</th>\n",
       "      <th>A549_A16treatment_SWATH_3</th>\n",
       "      <th>A549_nontreatment_SWATH_3</th>\n",
       "      <th>A549_nontreatment_SWATH_1</th>\n",
       "      <th>A549_nontreatment_SWATH_2</th>\n",
       "      <th>A16treatment_mean</th>\n",
       "      <th>nontreatment_mean</th>\n",
       "      <th>t_test</th>\n",
       "      <th>p_value</th>\n",
       "      <th>FC_ACP/contrl</th>\n",
       "      <th>log2(FC_ACP/contrl)</th>\n",
       "      <th>\"-log10(p_value)\"</th>\n",
       "      <th>Protein</th>\n",
       "    </tr>\n",
       "  </thead>\n",
       "  <tbody>\n",
       "    <tr>\n",
       "      <th>2</th>\n",
       "      <td>sp|Q15149|PLEC_HUMAN_group_Plectin OS=Homo sap...</td>\n",
       "      <td>255590.0</td>\n",
       "      <td>361330.0</td>\n",
       "      <td>300570.0</td>\n",
       "      <td>961250.0</td>\n",
       "      <td>1282500.0</td>\n",
       "      <td>187090.0</td>\n",
       "      <td>3.058300e+05</td>\n",
       "      <td>8.102800e+05</td>\n",
       "      <td>-1.544820</td>\n",
       "      <td>0.197277</td>\n",
       "      <td>0.377437</td>\n",
       "      <td>-1.405691</td>\n",
       "      <td>0.704924</td>\n",
       "      <td>PLEC</td>\n",
       "    </tr>\n",
       "    <tr>\n",
       "      <th>3</th>\n",
       "      <td>sp|Q09666|AHNK_HUMAN_group_Neuroblast differen...</td>\n",
       "      <td>254440.0</td>\n",
       "      <td>304190.0</td>\n",
       "      <td>274570.0</td>\n",
       "      <td>736800.0</td>\n",
       "      <td>834440.0</td>\n",
       "      <td>384830.0</td>\n",
       "      <td>2.777333e+05</td>\n",
       "      <td>6.520233e+05</td>\n",
       "      <td>-2.726074</td>\n",
       "      <td>0.052656</td>\n",
       "      <td>0.425956</td>\n",
       "      <td>-1.231223</td>\n",
       "      <td>1.278554</td>\n",
       "      <td>AHNK</td>\n",
       "    </tr>\n",
       "    <tr>\n",
       "      <th>4</th>\n",
       "      <td>sp|P21333|FLNA_HUMAN_group_Filamin-A OS=Homo s...</td>\n",
       "      <td>1123000.0</td>\n",
       "      <td>959120.0</td>\n",
       "      <td>1063100.0</td>\n",
       "      <td>1069100.0</td>\n",
       "      <td>1179800.0</td>\n",
       "      <td>898420.0</td>\n",
       "      <td>1.048407e+06</td>\n",
       "      <td>1.049107e+06</td>\n",
       "      <td>-0.007383</td>\n",
       "      <td>0.994463</td>\n",
       "      <td>0.999333</td>\n",
       "      <td>-0.000963</td>\n",
       "      <td>0.002411</td>\n",
       "      <td>FLNA</td>\n",
       "    </tr>\n",
       "    <tr>\n",
       "      <th>5</th>\n",
       "      <td>sp|P35579|MYH9_HUMAN_group_Myosin-9 OS=Homo sa...</td>\n",
       "      <td>487560.0</td>\n",
       "      <td>407750.0</td>\n",
       "      <td>391030.0</td>\n",
       "      <td>269380.0</td>\n",
       "      <td>352830.0</td>\n",
       "      <td>285860.0</td>\n",
       "      <td>4.287800e+05</td>\n",
       "      <td>3.026900e+05</td>\n",
       "      <td>3.214944</td>\n",
       "      <td>0.032436</td>\n",
       "      <td>1.416565</td>\n",
       "      <td>0.502397</td>\n",
       "      <td>1.488972</td>\n",
       "      <td>MYH9</td>\n",
       "    </tr>\n",
       "  </tbody>\n",
       "</table>\n",
       "</div>"
      ],
      "text/plain": [
       "                                         Sample Name   \n",
       "2  sp|Q15149|PLEC_HUMAN_group_Plectin OS=Homo sap...  \\\n",
       "3  sp|Q09666|AHNK_HUMAN_group_Neuroblast differen...   \n",
       "4  sp|P21333|FLNA_HUMAN_group_Filamin-A OS=Homo s...   \n",
       "5  sp|P35579|MYH9_HUMAN_group_Myosin-9 OS=Homo sa...   \n",
       "\n",
       "   A549_A16treatment_SWATH_1  A549_A16treatment_SWATH_2   \n",
       "2                   255590.0                   361330.0  \\\n",
       "3                   254440.0                   304190.0   \n",
       "4                  1123000.0                   959120.0   \n",
       "5                   487560.0                   407750.0   \n",
       "\n",
       "   A549_A16treatment_SWATH_3  A549_nontreatment_SWATH_3   \n",
       "2                   300570.0                   961250.0  \\\n",
       "3                   274570.0                   736800.0   \n",
       "4                  1063100.0                  1069100.0   \n",
       "5                   391030.0                   269380.0   \n",
       "\n",
       "   A549_nontreatment_SWATH_1  A549_nontreatment_SWATH_2  A16treatment_mean   \n",
       "2                  1282500.0                   187090.0       3.058300e+05  \\\n",
       "3                   834440.0                   384830.0       2.777333e+05   \n",
       "4                  1179800.0                   898420.0       1.048407e+06   \n",
       "5                   352830.0                   285860.0       4.287800e+05   \n",
       "\n",
       "   nontreatment_mean    t_test   p_value  FC_ACP/contrl  log2(FC_ACP/contrl)   \n",
       "2       8.102800e+05 -1.544820  0.197277       0.377437            -1.405691  \\\n",
       "3       6.520233e+05 -2.726074  0.052656       0.425956            -1.231223   \n",
       "4       1.049107e+06 -0.007383  0.994463       0.999333            -0.000963   \n",
       "5       3.026900e+05  3.214944  0.032436       1.416565             0.502397   \n",
       "\n",
       "   \"-log10(p_value)\" Protein  \n",
       "2           0.704924    PLEC  \n",
       "3           1.278554    AHNK  \n",
       "4           0.002411    FLNA  \n",
       "5           1.488972    MYH9  "
      ]
     },
     "execution_count": 311,
     "metadata": {},
     "output_type": "execute_result"
    }
   ],
   "source": [
    "df_MLRrm.head(4)"
   ]
  },
  {
   "cell_type": "code",
   "execution_count": 312,
   "id": "22fdcda5",
   "metadata": {},
   "outputs": [
    {
     "data": {
      "text/plain": [
       "Index(['Sample Name', 'A549_A16treatment_SWATH_1', 'A549_A16treatment_SWATH_2',\n",
       "       'A549_A16treatment_SWATH_3', 'A549_nontreatment_SWATH_3',\n",
       "       'A549_nontreatment_SWATH_1', 'A549_nontreatment_SWATH_2',\n",
       "       'A16treatment_mean', 'nontreatment_mean', 't_test', 'p_value',\n",
       "       'FC_ACP/contrl', 'log2(FC_ACP/contrl)', '\"-log10(p_value)\"', 'Protein'],\n",
       "      dtype='object')"
      ]
     },
     "execution_count": 312,
     "metadata": {},
     "output_type": "execute_result"
    }
   ],
   "source": [
    "df_MLRrm.columns"
   ]
  },
  {
   "cell_type": "code",
   "execution_count": 315,
   "id": "6d80b6d5",
   "metadata": {},
   "outputs": [
    {
     "data": {
      "image/png": "[encoded data removed]",
      "text/plain": [
       "<Figure size 640x480 with 1 Axes>"
      ]
     },
     "metadata": {},
     "output_type": "display_data"
    }
   ],
   "source": [
    "significant_peaks = df_MLRrm[df_MLRrm['p_value'] < 0.05]\n",
    "\n",
    "# set up plot\n",
    "fig, ax = plt.subplots()\n",
    "ax.scatter(df_MLRrm['log2(FC_ACP/contrl)'], df_MLRrm['\"-log10(p_value)\"'], color='blue', label='Non-significant')\n",
    "ax.scatter(significant_peaks['log2(FC_ACP/contrl)'], significant_peaks['\"-log10(p_value)\"'], color='red', label='Significant')\n",
    "ax.axhline(y=-np.log10(0.05), color='gray', linestyle='--')\n",
    "ax.axvline(x=1, color='gray', linestyle='--')\n",
    "ax.axvline(x=-1, color='gray', linestyle='--')\n",
    "ax.set_xlabel('log2(fold change)')\n",
    "ax.set_ylabel('-log10(p-value)')\n",
    "ax.set_title('Volcano plot')\n",
    "ax.legend()\n",
    "\n",
    "# add text labels for significant peaks\n",
    "for idx, row in significant_peaks.iterrows():\n",
    "    ax.text(row['log2(FC_ACP/contrl)'], row['\"-log10(p_value)\"'], row['Protein'], fontsize=6)\n",
    "\n",
    "# show plot\n",
    "#plt.show()\n",
    "plt.savefig('volcano_plot_manual.png', dpi=300, bbox_inches='tight')"
   ]
  },
  {
   "cell_type": "code",
   "execution_count": 317,
   "id": "235dca99",
   "metadata": {},
   "outputs": [],
   "source": [
    "df_MLRrm_sp = df_MLRrm[df_MLRrm['p_value'] < 0.05].sort_values(by=['p_value'], ascending=True)\n",
    "df_MLRrm_sp.to_csv('significant_peaks_remove_zero_MLR.csv', index=False, header=True)"
   ]
  },
  {
   "cell_type": "code",
   "execution_count": 320,
   "id": "b232d2a1",
   "metadata": {},
   "outputs": [],
   "source": [
    "df_MLR_sp = df_MLR[df_MLR['p_value'] < 0.05].sort_values(by=['p_value'], ascending=True)\n",
    "df_MLR_sp.to_csv('significant_peaks_MLR.csv', index=False, header=True)"
   ]
  },
  {
   "cell_type": "code",
   "execution_count": null,
   "id": "09290d19",
   "metadata": {},
   "outputs": [],
   "source": []
  },
  {
   "cell_type": "code",
   "execution_count": null,
   "id": "2b78267a",
   "metadata": {},
   "outputs": [],
   "source": []
  },
  {
   "cell_type": "code",
   "execution_count": null,
   "id": "6a6787ca",
   "metadata": {},
   "outputs": [],
   "source": []
  },
  {
   "cell_type": "code",
   "execution_count": 205,
   "id": "1f22ea47",
   "metadata": {},
   "outputs": [],
   "source": [
    "# Separate the A16treatment group and nontreatment group\n",
    "df_a16 = df_MLR[['A549_A16treatment_SWATH_1', 'A549_A16treatment_SWATH_2', 'A549_A16treatment_SWATH_3']]\n",
    "df_non = df_MLR[['A549_nontreatment_SWATH_3', 'A549_nontreatment_SWATH_1', 'A549_nontreatment_SWATH_2']]\n",
    "\n",
    "# Calculate the mean of each group\n",
    "mean_a16 = df_a16.mean(axis=1)\n",
    "mean_non = df_non.mean(axis=1)"
   ]
  },
  {
   "cell_type": "code",
   "execution_count": null,
   "id": "1fa30366",
   "metadata": {},
   "outputs": [],
   "source": [
    "# Perform a t-test\n",
    "t_stat, p_val = ttest_ind(mean_a16, mean_non)"
   ]
  },
  {
   "cell_type": "code",
   "execution_count": null,
   "id": "742e6691",
   "metadata": {},
   "outputs": [],
   "source": []
  },
  {
   "cell_type": "code",
   "execution_count": null,
   "id": "feeab6ca",
   "metadata": {},
   "outputs": [],
   "source": []
  },
  {
   "cell_type": "code",
   "execution_count": null,
   "id": "d6a763bc",
   "metadata": {},
   "outputs": [],
   "source": []
  },
  {
   "cell_type": "code",
   "execution_count": null,
   "id": "04338829",
   "metadata": {},
   "outputs": [],
   "source": []
  },
  {
   "cell_type": "code",
   "execution_count": null,
   "id": "2f6825bb",
   "metadata": {},
   "outputs": [],
   "source": []
  },
  {
   "cell_type": "code",
   "execution_count": null,
   "id": "f89ff667",
   "metadata": {},
   "outputs": [],
   "source": []
  },
  {
   "cell_type": "code",
   "execution_count": 85,
   "id": "bfde2698",
   "metadata": {},
   "outputs": [
    {
     "name": "stdout",
     "output_type": "stream",
     "text": [
      "4.389999327066015 1.321521478391563\n"
     ]
    }
   ],
   "source": [
    "log2 = m.log2(20.9662846821696)\n",
    "log10 = m.log10(20.9662846821696)\n",
    "print(log2,log10)\n",
    "#math.log1p(x)"
   ]
  },
  {
   "cell_type": "code",
   "execution_count": 15,
   "id": "23ec2a16",
   "metadata": {},
   "outputs": [],
   "source": [
    "#Calculate every row with certain column\n",
    "df['mean_A16'] = df.iloc[:, 1:3].mean(axis=1)\n",
    "df['mean_NT'] = df.iloc[:, 4:6].mean(axis=1)"
   ]
  },
  {
   "cell_type": "code",
   "execution_count": 16,
   "id": "5362245c",
   "metadata": {},
   "outputs": [
    {
     "data": {
      "text/html": [
       "<div>\n",
       "<style scoped>\n",
       "    .dataframe tbody tr th:only-of-type {\n",
       "        vertical-align: middle;\n",
       "    }\n",
       "\n",
       "    .dataframe tbody tr th {\n",
       "        vertical-align: top;\n",
       "    }\n",
       "\n",
       "    .dataframe thead th {\n",
       "        text-align: right;\n",
       "    }\n",
       "</style>\n",
       "<table border=\"1\" class=\"dataframe\">\n",
       "  <thead>\n",
       "    <tr style=\"text-align: right;\">\n",
       "      <th></th>\n",
       "      <th>Protein</th>\n",
       "      <th>A549_A16treatment_SWATH_1 (A549_A16treatment_SWATH_100.wiff (sample 1))</th>\n",
       "      <th>A549_A16treatment_SWATH_2 (A549_A16treatment_SWATH_200.wiff (sample 1))</th>\n",
       "      <th>A549_A16treatment_SWATH_3 (A549_A16treatment_SWATH_300.wiff (sample 1))</th>\n",
       "      <th>A549_nontreatment_SWATH_3 (A549_nontreatment_SWATH_30.wiff (sample 1))</th>\n",
       "      <th>A549_nontreatment_SWATH_1 (A549_nontreatment_SWATH_100.wiff (sample 1))</th>\n",
       "      <th>A549_nontreatment_SWATH_2 (A549_nontreatment_SWATH_200.wiff (sample 1))</th>\n",
       "      <th>mean_A16</th>\n",
       "      <th>mean_NT</th>\n",
       "    </tr>\n",
       "  </thead>\n",
       "  <tbody>\n",
       "    <tr>\n",
       "      <th>0</th>\n",
       "      <td>sp|Q15149|PLEC_HUMAN</td>\n",
       "      <td>2.323898e+05</td>\n",
       "      <td>361332.342184</td>\n",
       "      <td>246806.402719</td>\n",
       "      <td>57872.629947</td>\n",
       "      <td>55999.814567</td>\n",
       "      <td>11521.056227</td>\n",
       "      <td>296861.085602</td>\n",
       "      <td>56936.222257</td>\n",
       "    </tr>\n",
       "    <tr>\n",
       "      <th>1</th>\n",
       "      <td>sp|Q09666|AHNK_HUMAN</td>\n",
       "      <td>2.313437e+05</td>\n",
       "      <td>304193.835836</td>\n",
       "      <td>225455.473828</td>\n",
       "      <td>44359.455238</td>\n",
       "      <td>36434.229211</td>\n",
       "      <td>23697.546591</td>\n",
       "      <td>267768.762797</td>\n",
       "      <td>40396.842224</td>\n",
       "    </tr>\n",
       "    <tr>\n",
       "      <th>2</th>\n",
       "      <td>sp|P21333|FLNA_HUMAN</td>\n",
       "      <td>1.021063e+06</td>\n",
       "      <td>959118.862713</td>\n",
       "      <td>872954.046260</td>\n",
       "      <td>64366.945632</td>\n",
       "      <td>51512.239307</td>\n",
       "      <td>55324.594545</td>\n",
       "      <td>990090.736936</td>\n",
       "      <td>57939.592469</td>\n",
       "    </tr>\n",
       "  </tbody>\n",
       "</table>\n",
       "</div>"
      ],
      "text/plain": [
       "                Protein   \n",
       "0  sp|Q15149|PLEC_HUMAN  \\\n",
       "1  sp|Q09666|AHNK_HUMAN   \n",
       "2  sp|P21333|FLNA_HUMAN   \n",
       "\n",
       "   A549_A16treatment_SWATH_1 (A549_A16treatment_SWATH_100.wiff (sample 1))   \n",
       "0                                       2.323898e+05                        \\\n",
       "1                                       2.313437e+05                         \n",
       "2                                       1.021063e+06                         \n",
       "\n",
       "   A549_A16treatment_SWATH_2 (A549_A16treatment_SWATH_200.wiff (sample 1))   \n",
       "0                                      361332.342184                        \\\n",
       "1                                      304193.835836                         \n",
       "2                                      959118.862713                         \n",
       "\n",
       "   A549_A16treatment_SWATH_3 (A549_A16treatment_SWATH_300.wiff (sample 1))   \n",
       "0                                      246806.402719                        \\\n",
       "1                                      225455.473828                         \n",
       "2                                      872954.046260                         \n",
       "\n",
       "   A549_nontreatment_SWATH_3 (A549_nontreatment_SWATH_30.wiff (sample 1))   \n",
       "0                                       57872.629947                       \\\n",
       "1                                       44359.455238                        \n",
       "2                                       64366.945632                        \n",
       "\n",
       "   A549_nontreatment_SWATH_1 (A549_nontreatment_SWATH_100.wiff (sample 1))   \n",
       "0                                       55999.814567                        \\\n",
       "1                                       36434.229211                         \n",
       "2                                       51512.239307                         \n",
       "\n",
       "   A549_nontreatment_SWATH_2 (A549_nontreatment_SWATH_200.wiff (sample 1))   \n",
       "0                                       11521.056227                        \\\n",
       "1                                       23697.546591                         \n",
       "2                                       55324.594545                         \n",
       "\n",
       "        mean_A16       mean_NT  \n",
       "0  296861.085602  56936.222257  \n",
       "1  267768.762797  40396.842224  \n",
       "2  990090.736936  57939.592469  "
      ]
     },
     "execution_count": 16,
     "metadata": {},
     "output_type": "execute_result"
    }
   ],
   "source": [
    "df.head(3)"
   ]
  },
  {
   "cell_type": "code",
   "execution_count": null,
   "id": "83f76f35",
   "metadata": {},
   "outputs": [],
   "source": []
  }
 ],
 "metadata": {
  "kernelspec": {
   "display_name": "Python 3 (ipykernel)",
   "language": "python",
   "name": "python3"
  },
  "language_info": {
   "codemirror_mode": {
    "name": "ipython",
    "version": 3
   },
   "file_extension": ".py",
   "mimetype": "text/x-python",
   "name": "python",
   "nbconvert_exporter": "python",
   "pygments_lexer": "ipython3",
   "version": "3.9.13"
  }
 },
 "nbformat": 4,
 "nbformat_minor": 5
}
