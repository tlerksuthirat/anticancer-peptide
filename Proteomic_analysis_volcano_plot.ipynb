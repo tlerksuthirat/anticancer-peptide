{
  "cells": [
    {
      "cell_type": "code",
      "execution_count": 1,
      "id": "f2a67211",
      "metadata": {
        "id": "f2a67211"
      },
      "outputs": [],
      "source": [
        "import pandas as pd\n",
        "import numpy as np\n",
        "from scipy.stats import ttest_ind\n",
        "import os\n",
        "import matplotlib.pyplot as plt\n",
        "from google.colab import files"
      ]
    },
    {
      "cell_type": "code",
      "execution_count": 4,
      "id": "d48c4c8d",
      "metadata": {
        "id": "d48c4c8d",
        "outputId": "bfa1fc54-c88e-4737-f38c-e122efd2f0b0",
        "colab": {
          "base_uri": "https://localhost:8080/"
        }
      },
      "outputs": [
        {
          "output_type": "stream",
          "name": "stdout",
          "text": [
            "['Area - ions', 'Area - peptides', 'Area - proteins', 'MLR normalization', 't-test', 'sig.', 'Score', 'FDR', 'Observed RT']\n"
          ]
        }
      ],
      "source": [
        "# Create an ExcelFile object\n",
        "file = pd.ExcelFile('/content/A549_A16_treatment_660126.xlsx')\n",
        "sheet_names = file.sheet_names\n",
        "print(sheet_names)"
      ]
    },
    {
      "cell_type": "code",
      "execution_count": 5,
      "id": "ea58c656",
      "metadata": {
        "id": "ea58c656"
      },
      "outputs": [],
      "source": [
        "df = pd.read_excel(\"/content/A549_A16_treatment_660126.xlsx\", sheet_name='t-test')"
      ]
    },
    {
      "cell_type": "code",
      "execution_count": 6,
      "id": "17084f15",
      "metadata": {
        "id": "17084f15"
      },
      "outputs": [],
      "source": [
        "df.to_csv(\"A549_A16_treatment_660126_t-test.csv\", index = None, header =True)\n",
        "df = pd.read_csv(\"A549_A16_treatment_660126_t-test.csv\")"
      ]
    },
    {
      "cell_type": "code",
      "execution_count": 7,
      "id": "3c1b07cb",
      "metadata": {
        "scrolled": true,
        "id": "3c1b07cb",
        "outputId": "49261874-afbb-4470-ddc9-2a8360193c72",
        "colab": {
          "base_uri": "https://localhost:8080/",
          "height": 266
        }
      },
      "outputs": [
        {
          "output_type": "execute_result",
          "data": {
            "text/plain": [
              "              Peak Name  m/z  Ret. Time  \\\n",
              "0  sp|P23284|PPIB_HUMAN  NaN        NaN   \n",
              "\n",
              "                                               Group   Use    t-value  \\\n",
              "0  Peptidyl-prolyl cis-trans isomerase B OS=Homo ...  True  27.595672   \n",
              "\n",
              "   p-value   Log (p)         Mean 1       Mean 2       Median 1     Median 2  \\\n",
              "0  0.00001 -4.982059  114063.030113  5440.307229  116040.817729  6737.091935   \n",
              "\n",
              "       Sigma 1      Sigma 2          Delta       Fold Change Log (Fold Change)  \n",
              "0  4717.824953  4921.756404  108622.722885  20.9662846821696  1.32152147839156  "
            ],
            "text/html": [
              "\n",
              "  <div id=\"df-ab5cbd9e-0160-49fa-b70c-35c4ac779490\">\n",
              "    <div class=\"colab-df-container\">\n",
              "      <div>\n",
              "<style scoped>\n",
              "    .dataframe tbody tr th:only-of-type {\n",
              "        vertical-align: middle;\n",
              "    }\n",
              "\n",
              "    .dataframe tbody tr th {\n",
              "        vertical-align: top;\n",
              "    }\n",
              "\n",
              "    .dataframe thead th {\n",
              "        text-align: right;\n",
              "    }\n",
              "</style>\n",
              "<table border=\"1\" class=\"dataframe\">\n",
              "  <thead>\n",
              "    <tr style=\"text-align: right;\">\n",
              "      <th></th>\n",
              "      <th>Peak Name</th>\n",
              "      <th>m/z</th>\n",
              "      <th>Ret. Time</th>\n",
              "      <th>Group</th>\n",
              "      <th>Use</th>\n",
              "      <th>t-value</th>\n",
              "      <th>p-value</th>\n",
              "      <th>Log (p)</th>\n",
              "      <th>Mean 1</th>\n",
              "      <th>Mean 2</th>\n",
              "      <th>Median 1</th>\n",
              "      <th>Median 2</th>\n",
              "      <th>Sigma 1</th>\n",
              "      <th>Sigma 2</th>\n",
              "      <th>Delta</th>\n",
              "      <th>Fold Change</th>\n",
              "      <th>Log (Fold Change)</th>\n",
              "    </tr>\n",
              "  </thead>\n",
              "  <tbody>\n",
              "    <tr>\n",
              "      <th>0</th>\n",
              "      <td>sp|P23284|PPIB_HUMAN</td>\n",
              "      <td>NaN</td>\n",
              "      <td>NaN</td>\n",
              "      <td>Peptidyl-prolyl cis-trans isomerase B OS=Homo ...</td>\n",
              "      <td>True</td>\n",
              "      <td>27.595672</td>\n",
              "      <td>0.00001</td>\n",
              "      <td>-4.982059</td>\n",
              "      <td>114063.030113</td>\n",
              "      <td>5440.307229</td>\n",
              "      <td>116040.817729</td>\n",
              "      <td>6737.091935</td>\n",
              "      <td>4717.824953</td>\n",
              "      <td>4921.756404</td>\n",
              "      <td>108622.722885</td>\n",
              "      <td>20.9662846821696</td>\n",
              "      <td>1.32152147839156</td>\n",
              "    </tr>\n",
              "  </tbody>\n",
              "</table>\n",
              "</div>\n",
              "      <button class=\"colab-df-convert\" onclick=\"convertToInteractive('df-ab5cbd9e-0160-49fa-b70c-35c4ac779490')\"\n",
              "              title=\"Convert this dataframe to an interactive table.\"\n",
              "              style=\"display:none;\">\n",
              "        \n",
              "  <svg xmlns=\"http://www.w3.org/2000/svg\" height=\"24px\"viewBox=\"0 0 24 24\"\n",
              "       width=\"24px\">\n",
              "    <path d=\"M0 0h24v24H0V0z\" fill=\"none\"/>\n",
              "    <path d=\"M18.56 5.44l.94 2.06.94-2.06 2.06-.94-2.06-.94-.94-2.06-.94 2.06-2.06.94zm-11 1L8.5 8.5l.94-2.06 2.06-.94-2.06-.94L8.5 2.5l-.94 2.06-2.06.94zm10 10l.94 2.06.94-2.06 2.06-.94-2.06-.94-.94-2.06-.94 2.06-2.06.94z\"/><path d=\"M17.41 7.96l-1.37-1.37c-.4-.4-.92-.59-1.43-.59-.52 0-1.04.2-1.43.59L10.3 9.45l-7.72 7.72c-.78.78-.78 2.05 0 2.83L4 21.41c.39.39.9.59 1.41.59.51 0 1.02-.2 1.41-.59l7.78-7.78 2.81-2.81c.8-.78.8-2.07 0-2.86zM5.41 20L4 18.59l7.72-7.72 1.47 1.35L5.41 20z\"/>\n",
              "  </svg>\n",
              "      </button>\n",
              "      \n",
              "  <style>\n",
              "    .colab-df-container {\n",
              "      display:flex;\n",
              "      flex-wrap:wrap;\n",
              "      gap: 12px;\n",
              "    }\n",
              "\n",
              "    .colab-df-convert {\n",
              "      background-color: #E8F0FE;\n",
              "      border: none;\n",
              "      border-radius: 50%;\n",
              "      cursor: pointer;\n",
              "      display: none;\n",
              "      fill: #1967D2;\n",
              "      height: 32px;\n",
              "      padding: 0 0 0 0;\n",
              "      width: 32px;\n",
              "    }\n",
              "\n",
              "    .colab-df-convert:hover {\n",
              "      background-color: #E2EBFA;\n",
              "      box-shadow: 0px 1px 2px rgba(60, 64, 67, 0.3), 0px 1px 3px 1px rgba(60, 64, 67, 0.15);\n",
              "      fill: #174EA6;\n",
              "    }\n",
              "\n",
              "    [theme=dark] .colab-df-convert {\n",
              "      background-color: #3B4455;\n",
              "      fill: #D2E3FC;\n",
              "    }\n",
              "\n",
              "    [theme=dark] .colab-df-convert:hover {\n",
              "      background-color: #434B5C;\n",
              "      box-shadow: 0px 1px 3px 1px rgba(0, 0, 0, 0.15);\n",
              "      filter: drop-shadow(0px 1px 2px rgba(0, 0, 0, 0.3));\n",
              "      fill: #FFFFFF;\n",
              "    }\n",
              "  </style>\n",
              "\n",
              "      <script>\n",
              "        const buttonEl =\n",
              "          document.querySelector('#df-ab5cbd9e-0160-49fa-b70c-35c4ac779490 button.colab-df-convert');\n",
              "        buttonEl.style.display =\n",
              "          google.colab.kernel.accessAllowed ? 'block' : 'none';\n",
              "\n",
              "        async function convertToInteractive(key) {\n",
              "          const element = document.querySelector('#df-ab5cbd9e-0160-49fa-b70c-35c4ac779490');\n",
              "          const dataTable =\n",
              "            await google.colab.kernel.invokeFunction('convertToInteractive',\n",
              "                                                     [key], {});\n",
              "          if (!dataTable) return;\n",
              "\n",
              "          const docLinkHtml = 'Like what you see? Visit the ' +\n",
              "            '<a target=\"_blank\" href=https://colab.research.google.com/notebooks/data_table.ipynb>data table notebook</a>'\n",
              "            + ' to learn more about interactive tables.';\n",
              "          element.innerHTML = '';\n",
              "          dataTable['output_type'] = 'display_data';\n",
              "          await google.colab.output.renderOutput(dataTable, element);\n",
              "          const docLink = document.createElement('div');\n",
              "          docLink.innerHTML = docLinkHtml;\n",
              "          element.appendChild(docLink);\n",
              "        }\n",
              "      </script>\n",
              "    </div>\n",
              "  </div>\n",
              "  "
            ]
          },
          "metadata": {},
          "execution_count": 7
        }
      ],
      "source": [
        "df.head(1)"
      ]
    },
    {
      "cell_type": "code",
      "execution_count": 8,
      "id": "cdb24740",
      "metadata": {
        "id": "cdb24740",
        "outputId": "9f239084-a00c-45a6-9930-d1eb71e37239",
        "colab": {
          "base_uri": "https://localhost:8080/"
        }
      },
      "outputs": [
        {
          "output_type": "execute_result",
          "data": {
            "text/plain": [
              "(739, 17)"
            ]
          },
          "metadata": {},
          "execution_count": 8
        }
      ],
      "source": [
        "df.shape"
      ]
    },
    {
      "cell_type": "code",
      "execution_count": 9,
      "id": "d2012482",
      "metadata": {
        "id": "d2012482"
      },
      "outputs": [],
      "source": [
        "df1 = df[pd.to_numeric(df['Fold Change'], errors='coerce').notnull()]"
      ]
    },
    {
      "cell_type": "code",
      "execution_count": 10,
      "id": "fe163549",
      "metadata": {
        "id": "fe163549",
        "outputId": "398c6526-9f8d-4596-df63-3de692daf401",
        "colab": {
          "base_uri": "https://localhost:8080/"
        }
      },
      "outputs": [
        {
          "output_type": "execute_result",
          "data": {
            "text/plain": [
              "(690, 17)"
            ]
          },
          "metadata": {},
          "execution_count": 10
        }
      ],
      "source": [
        "df1.shape"
      ]
    },
    {
      "cell_type": "code",
      "execution_count": null,
      "id": "7599383e",
      "metadata": {
        "id": "7599383e"
      },
      "outputs": [],
      "source": [
        "df1 = df1.copy()\n",
        "df1['Fold Change'] = pd.to_numeric(df1['Fold Change'])\n",
        "df1['log2(fold change)'] = df1['Fold Change'].apply(np.log2)\n",
        "df1['\"-log10(p-value)\"'] = -1 * df1['p-value'].apply(np.log10)"
      ]
    },
    {
      "cell_type": "code",
      "execution_count": null,
      "id": "21afb374",
      "metadata": {
        "id": "21afb374"
      },
      "outputs": [],
      "source": [
        "df1.head(1)"
      ]
    },
    {
      "cell_type": "code",
      "execution_count": null,
      "id": "a8bcefe2",
      "metadata": {
        "id": "a8bcefe2"
      },
      "outputs": [],
      "source": [
        "df1['Protein'] = df1['Peak Name'].str.split('|').str[2].str.split('_').str[0]"
      ]
    },
    {
      "cell_type": "code",
      "execution_count": null,
      "id": "dee9b511",
      "metadata": {
        "id": "dee9b511"
      },
      "outputs": [],
      "source": [
        "df1.head(1)"
      ]
    },
    {
      "cell_type": "code",
      "execution_count": null,
      "id": "263d70e4",
      "metadata": {
        "id": "263d70e4"
      },
      "outputs": [],
      "source": [
        "# filter rows where p-value is less than 0.05\n",
        "significant_peaks = df1[df1['p-value'] < 0.05]\n",
        "\n",
        "# set up plot\n",
        "fig, ax = plt.subplots()\n",
        "ax.scatter(df1['log2(fold change)'], df1['\"-log10(p-value)\"'], color='blue', label='Non-significant')\n",
        "ax.scatter(significant_peaks['log2(fold change)'], significant_peaks['\"-log10(p-value)\"'], color='red', label='Significant')\n",
        "ax.axhline(y=-np.log10(0.05), color='gray', linestyle='--')\n",
        "ax.axvline(x=1, color='gray', linestyle='--')\n",
        "ax.axvline(x=-1, color='gray', linestyle='--')\n",
        "ax.set_xlabel('log2(fold change)')\n",
        "ax.set_ylabel('-log10(p-value)')\n",
        "ax.set_title('Volcano plot')\n",
        "ax.legend()\n",
        "\n",
        "# add text labels for significant peaks\n",
        "for idx, row in significant_peaks.iterrows():\n",
        "    ax.text(row['log2(fold change)'], row['\"-log10(p-value)\"'], row['Protein'], fontsize=6)\n",
        "\n",
        "# show plot\n",
        "#plt.show()\n",
        "plt.savefig('volcano_plot.png', dpi=300, bbox_inches='tight')"
      ]
    },
    {
      "cell_type": "code",
      "execution_count": null,
      "id": "102f8afb",
      "metadata": {
        "id": "102f8afb"
      },
      "outputs": [],
      "source": [
        "df1_sp = df1[df1['p-value'] < 0.05].sort_values(by=['p-value'], ascending=True)\n",
        "df1_sp.to_csv('significant_peaks_remove_zero.csv', index=False, header=True)"
      ]
    },
    {
      "cell_type": "code",
      "execution_count": null,
      "id": "e7a97410",
      "metadata": {
        "id": "e7a97410"
      },
      "outputs": [],
      "source": [
        "df_sp = df[df['p-value'] < 0.05].sort_values(by=['p-value'], ascending=True)\n",
        "df_sp.to_csv('significant_peaks.csv', index=False, header=True)"
      ]
    },
    {
      "cell_type": "code",
      "source": [
        "df_MLR = pd.read_excel(\"/content/A549_A16 treatment_660126.xlsx\", sheet_name='MLR normalization')"
      ],
      "metadata": {
        "id": "v5NpZZ8YHom8"
      },
      "id": "v5NpZZ8YHom8",
      "execution_count": null,
      "outputs": []
    },
    {
      "cell_type": "code",
      "execution_count": null,
      "id": "cd5d62ec",
      "metadata": {
        "id": "cd5d62ec"
      },
      "outputs": [],
      "source": [
        "df_MLR.to_csv(\"A549_A16_treatment_660126_MLR.csv\", index = None, header =True)\n",
        "df_MLR = pd.read_csv(\"A549_A16_treatment_660126_MLR.csv\")"
      ]
    },
    {
      "cell_type": "code",
      "execution_count": null,
      "id": "fc3674ac",
      "metadata": {
        "id": "fc3674ac"
      },
      "outputs": [],
      "source": [
        "df_MLR.head(5)"
      ]
    },
    {
      "cell_type": "code",
      "execution_count": null,
      "id": "6c91cd58",
      "metadata": {
        "scrolled": true,
        "id": "6c91cd58"
      },
      "outputs": [],
      "source": [
        "df_MLR = df_MLR.dropna(subset=[df_MLR.columns[1]])"
      ]
    },
    {
      "cell_type": "code",
      "execution_count": null,
      "id": "db02091e",
      "metadata": {
        "id": "db02091e"
      },
      "outputs": [],
      "source": [
        "df_MLR.head(4)"
      ]
    },
    {
      "cell_type": "code",
      "execution_count": null,
      "id": "8d2d34b5",
      "metadata": {
        "id": "8d2d34b5"
      },
      "outputs": [],
      "source": [
        "df_MLR['A16treatment_mean'] = df_MLR[['A549_A16treatment_SWATH_1', 'A549_A16treatment_SWATH_2', 'A549_A16treatment_SWATH_3']].mean(axis=1)\n",
        "df_MLR['nontreatment_mean'] = df_MLR[['A549_nontreatment_SWATH_1', 'A549_nontreatment_SWATH_2', 'A549_nontreatment_SWATH_3']].mean(axis=1)"
      ]
    },
    {
      "cell_type": "code",
      "execution_count": null,
      "id": "e6d62bdf",
      "metadata": {
        "id": "e6d62bdf"
      },
      "outputs": [],
      "source": [
        "from scipy.stats import ttest_ind\n",
        "df_MLR['t_test'], df_MLR['p_value'] = ttest_ind(df_MLR[['A549_A16treatment_SWATH_1', 'A549_A16treatment_SWATH_2', 'A549_A16treatment_SWATH_3']], df_MLR[['A549_nontreatment_SWATH_1', 'A549_nontreatment_SWATH_2', 'A549_nontreatment_SWATH_3']], axis=1)"
      ]
    },
    {
      "cell_type": "code",
      "execution_count": null,
      "id": "5e94ac88",
      "metadata": {
        "id": "5e94ac88"
      },
      "outputs": [],
      "source": [
        "df_MLR.head(4)"
      ]
    },
    {
      "cell_type": "code",
      "execution_count": null,
      "id": "bae68519",
      "metadata": {
        "id": "bae68519"
      },
      "outputs": [],
      "source": [
        "df_MLR.shape"
      ]
    },
    {
      "cell_type": "code",
      "execution_count": null,
      "id": "5b743676",
      "metadata": {
        "id": "5b743676"
      },
      "outputs": [],
      "source": [
        "df_MLRrm = df_MLR[df_MLR['nontreatment_mean'] != 0]"
      ]
    },
    {
      "cell_type": "code",
      "execution_count": null,
      "id": "b6a5ed8a",
      "metadata": {
        "id": "b6a5ed8a"
      },
      "outputs": [],
      "source": [
        "df_MLRrm.shape"
      ]
    },
    {
      "cell_type": "code",
      "execution_count": null,
      "id": "aa0de7db",
      "metadata": {
        "scrolled": true,
        "id": "aa0de7db"
      },
      "outputs": [],
      "source": [
        "df_MLRrm = df_MLRrm.copy()\n",
        "df_MLRrm['FC_ACP/contrl'] = df_MLRrm['A16treatment_mean']/df_MLR['nontreatment_mean']\n",
        "df_MLRrm['log2(FC_ACP/contrl)'] = df_MLRrm['FC_ACP/contrl'].apply(np.log2)\n",
        "df_MLRrm['\"-log10(p_value)\"'] = -1 * df_MLRrm['p_value'].apply(np.log10)\n",
        "df_MLRrm['Protein'] = df_MLRrm['Sample Name'].str.split('|').str[2].str.split('_').str[0]"
      ]
    },
    {
      "cell_type": "code",
      "execution_count": null,
      "id": "565c8f21",
      "metadata": {
        "id": "565c8f21"
      },
      "outputs": [],
      "source": [
        "df_MLRrm.head(4)"
      ]
    },
    {
      "cell_type": "code",
      "execution_count": null,
      "id": "22fdcda5",
      "metadata": {
        "id": "22fdcda5"
      },
      "outputs": [],
      "source": [
        "df_MLRrm.columns"
      ]
    },
    {
      "cell_type": "code",
      "execution_count": null,
      "id": "6d80b6d5",
      "metadata": {
        "id": "6d80b6d5"
      },
      "outputs": [],
      "source": [
        "significant_peaks = df_MLRrm[df_MLRrm['p_value'] < 0.05]\n",
        "\n",
        "# set up plot\n",
        "fig, ax = plt.subplots()\n",
        "ax.scatter(df_MLRrm['log2(FC_ACP/contrl)'], df_MLRrm['\"-log10(p_value)\"'], color='blue', label='Non-significant')\n",
        "ax.scatter(significant_peaks['log2(FC_ACP/contrl)'], significant_peaks['\"-log10(p_value)\"'], color='red', label='Significant')\n",
        "ax.axhline(y=-np.log10(0.05), color='gray', linestyle='--')\n",
        "ax.axvline(x=1, color='gray', linestyle='--')\n",
        "ax.axvline(x=-1, color='gray', linestyle='--')\n",
        "ax.set_xlabel('log2(fold change)')\n",
        "ax.set_ylabel('-log10(p-value)')\n",
        "ax.set_title('Volcano plot')\n",
        "ax.legend()\n",
        "\n",
        "# add text labels for significant peaks\n",
        "for idx, row in significant_peaks.iterrows():\n",
        "    ax.text(row['log2(FC_ACP/contrl)'], row['\"-log10(p_value)\"'], row['Protein'], fontsize=6)\n",
        "\n",
        "# show plot\n",
        "#plt.show()\n",
        "plt.savefig('volcano_plot_manual.png', dpi=300, bbox_inches='tight')"
      ]
    },
    {
      "cell_type": "code",
      "execution_count": null,
      "id": "235dca99",
      "metadata": {
        "id": "235dca99"
      },
      "outputs": [],
      "source": [
        "df_MLRrm_sp = df_MLRrm[df_MLRrm['p_value'] < 0.05].sort_values(by=['p_value'], ascending=True)\n",
        "df_MLRrm_sp.to_csv('significant_peaks_remove_zero_MLR.csv', index=False, header=True)"
      ]
    },
    {
      "cell_type": "code",
      "execution_count": null,
      "id": "b232d2a1",
      "metadata": {
        "id": "b232d2a1"
      },
      "outputs": [],
      "source": [
        "df_MLR_sp = df_MLR[df_MLR['p_value'] < 0.05].sort_values(by=['p_value'], ascending=True)\n",
        "df_MLR_sp.to_csv('significant_peaks_MLR.csv', index=False, header=True)"
      ]
    },
    {
      "cell_type": "code",
      "source": [
        "# Set the name of the zip file you want to create\n",
        "zip_file_name = 'outputs.zip'\n",
        "\n",
        "# Create a list of all the files in the current directory\n",
        "file_list = os.listdir()\n",
        "\n",
        "# Create an empty list to store the paths of the output files\n",
        "output_file_paths = []\n",
        "\n",
        "# Loop through each file in the file list\n",
        "for file_name in file_list:\n",
        "  \n",
        "  # Check if the file is a .csv or .png file\n",
        "  if file_name.endswith('.csv') or file_name.endswith('.png'):\n",
        "    \n",
        "    # Add the file path to the list of output file paths\n",
        "    output_file_paths.append(os.path.join(os.getcwd(), file_name))\n",
        "\n",
        "# If there are output files, create a zip file and download it\n",
        "if len(output_file_paths) > 0:\n",
        "  \n",
        "  # Create a zip file of the output files\n",
        "  !zip -r $zip_file_name {' '.join(output_file_paths)}\n",
        "  \n",
        "  # Download the zip file\n",
        "  files.download(zip_file_name)\n",
        "  \n",
        "else:\n",
        "  print('No output files found')\n"
      ],
      "metadata": {
        "id": "DfmLpB5bH21j"
      },
      "id": "DfmLpB5bH21j",
      "execution_count": null,
      "outputs": []
    }
  ],
  "metadata": {
    "kernelspec": {
      "display_name": "Python 3 (ipykernel)",
      "language": "python",
      "name": "python3"
    },
    "language_info": {
      "codemirror_mode": {
        "name": "ipython",
        "version": 3
      },
      "file_extension": ".py",
      "mimetype": "text/x-python",
      "name": "python",
      "nbconvert_exporter": "python",
      "pygments_lexer": "ipython3",
      "version": "3.9.13"
    },
    "colab": {
      "provenance": []
    }
  },
  "nbformat": 4,
  "nbformat_minor": 5
}