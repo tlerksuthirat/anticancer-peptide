{
  "cells": [
    {
      "cell_type": "code",
      "execution_count": null,
      "id": "f2a67211",
      "metadata": {
        "id": "f2a67211"
      },
      "outputs": [],
      "source": [
        "import pandas as pd\n",
        "import numpy as np\n",
        "from scipy.stats import ttest_ind\n",
        "import os\n",
        "import matplotlib.pyplot as plt\n",
        "from google.colab import files"
      ]
    },
    {
      "cell_type": "code",
      "execution_count": null,
      "id": "d48c4c8d",
      "metadata": {
        "id": "d48c4c8d"
      },
      "outputs": [],
      "source": [
        "workbook = pd.read_excel('/content/A549_A16_treatment_660126.xlsx', sheet_name=None)\n",
        "sheet_names = list(workbook.keys())\n",
        "print(sheet_names)"
      ]
    },
    {
      "cell_type": "code",
      "execution_count": null,
      "id": "ea58c656",
      "metadata": {
        "id": "ea58c656"
      },
      "outputs": [],
      "source": [
        "df = pd.read_excel(\"/content/A549_A16_treatment_660126.xlsx\", sheet_name='t-test')"
      ]
    },
    {
      "cell_type": "code",
      "execution_count": null,
      "id": "17084f15",
      "metadata": {
        "id": "17084f15"
      },
      "outputs": [],
      "source": [
        "df.to_csv(\"A549_A16_treatment_660126_t-test.csv\", index = None, header =True)\n",
        "df = pd.read_csv(\"A549_A16_treatment_660126_t-test.csv\")"
      ]
    },
    {
      "cell_type": "code",
      "execution_count": null,
      "id": "3c1b07cb",
      "metadata": {
        "scrolled": true,
        "id": "3c1b07cb"
      },
      "outputs": [],
      "source": [
        "df.head(1)"
      ]
    },
    {
      "cell_type": "code",
      "execution_count": null,
      "id": "cdb24740",
      "metadata": {
        "id": "cdb24740"
      },
      "outputs": [],
      "source": [
        "df.shape"
      ]
    },
    {
      "cell_type": "code",
      "execution_count": null,
      "id": "d2012482",
      "metadata": {
        "id": "d2012482"
      },
      "outputs": [],
      "source": [
        "df1 = df[pd.to_numeric(df['Fold Change'], errors='coerce').notnull()]"
      ]
    },
    {
      "cell_type": "code",
      "execution_count": null,
      "id": "fe163549",
      "metadata": {
        "id": "fe163549"
      },
      "outputs": [],
      "source": [
        "df1.shape"
      ]
    },
    {
      "cell_type": "code",
      "execution_count": null,
      "id": "7599383e",
      "metadata": {
        "id": "7599383e"
      },
      "outputs": [],
      "source": [
        "df1 = df1.copy()\n",
        "df1['Fold Change'] = pd.to_numeric(df1['Fold Change'])\n",
        "df1['log2(fold change)'] = df1['Fold Change'].apply(np.log2)\n",
        "df1['\"-log10(p-value)\"'] = -1 * df1['p-value'].apply(np.log10)"
      ]
    },
    {
      "cell_type": "code",
      "execution_count": null,
      "id": "21afb374",
      "metadata": {
        "id": "21afb374"
      },
      "outputs": [],
      "source": [
        "df1.head(1)"
      ]
    },
    {
      "cell_type": "code",
      "execution_count": null,
      "id": "a8bcefe2",
      "metadata": {
        "id": "a8bcefe2"
      },
      "outputs": [],
      "source": [
        "df1['Protein'] = df1['Peak Name'].str.split('|').str[2].str.split('_').str[0]"
      ]
    },
    {
      "cell_type": "code",
      "execution_count": null,
      "id": "dee9b511",
      "metadata": {
        "id": "dee9b511"
      },
      "outputs": [],
      "source": [
        "df1.head(1)"
      ]
    },
    {
      "cell_type": "code",
      "execution_count": null,
      "id": "263d70e4",
      "metadata": {
        "id": "263d70e4"
      },
      "outputs": [],
      "source": [
        "# filter rows where p-value is less than 0.05\n",
        "significant_peaks = df1[df1['p-value'] < 0.05]\n",
        "\n",
        "# set up plot\n",
        "fig, ax = plt.subplots()\n",
        "ax.scatter(df1['log2(fold change)'], df1['\"-log10(p-value)\"'], color='blue', label='Non-significant')\n",
        "ax.scatter(significant_peaks['log2(fold change)'], significant_peaks['\"-log10(p-value)\"'], color='red', label='Significant')\n",
        "ax.axhline(y=-np.log10(0.05), color='gray', linestyle='--')\n",
        "ax.axvline(x=1, color='gray', linestyle='--')\n",
        "ax.axvline(x=-1, color='gray', linestyle='--')\n",
        "ax.set_xlabel('log2(fold change)')\n",
        "ax.set_ylabel('-log10(p-value)')\n",
        "ax.set_title('Volcano plot')\n",
        "ax.legend()\n",
        "\n",
        "# add text labels for significant peaks\n",
        "for idx, row in significant_peaks.iterrows():\n",
        "    ax.text(row['log2(fold change)'], row['\"-log10(p-value)\"'], row['Protein'], fontsize=6)\n",
        "\n",
        "# show plot\n",
        "#plt.show()\n",
        "plt.savefig('volcano_plot.png', dpi=300, bbox_inches='tight')"
      ]
    },
    {
      "cell_type": "code",
      "execution_count": null,
      "id": "102f8afb",
      "metadata": {
        "id": "102f8afb"
      },
      "outputs": [],
      "source": [
        "df1_sp = df1[df1['p-value'] < 0.05].sort_values(by=['p-value'], ascending=True)\n",
        "df1_sp.to_csv('significant_peaks_remove_zero.csv', index=False, header=True)"
      ]
    },
    {
      "cell_type": "code",
      "execution_count": null,
      "id": "e7a97410",
      "metadata": {
        "id": "e7a97410"
      },
      "outputs": [],
      "source": [
        "df_sp = df[df['p-value'] < 0.05].sort_values(by=['p-value'], ascending=True)\n",
        "df_sp.to_csv('significant_peaks.csv', index=False, header=True)"
      ]
    },
    {
      "cell_type": "code",
      "source": [
        "df_MLR = pd.read_excel(\"/content/A549_A16_treatment_660126.xlsx\", sheet_name='MLR normalization')"
      ],
      "metadata": {
        "id": "v5NpZZ8YHom8"
      },
      "id": "v5NpZZ8YHom8",
      "execution_count": null,
      "outputs": []
    },
    {
      "cell_type": "code",
      "execution_count": null,
      "id": "cd5d62ec",
      "metadata": {
        "id": "cd5d62ec"
      },
      "outputs": [],
      "source": [
        "df_MLR.to_csv(\"A549_A16_treatment_660126_MLR.csv\", index = None, header =True)\n",
        "df_MLR = pd.read_csv(\"A549_A16_treatment_660126_MLR.csv\")"
      ]
    },
    {
      "cell_type": "code",
      "execution_count": null,
      "id": "fc3674ac",
      "metadata": {
        "id": "fc3674ac"
      },
      "outputs": [],
      "source": [
        "df_MLR.head(5)"
      ]
    },
    {
      "cell_type": "code",
      "execution_count": null,
      "id": "6c91cd58",
      "metadata": {
        "scrolled": true,
        "id": "6c91cd58"
      },
      "outputs": [],
      "source": [
        "df_MLR = df_MLR.dropna(subset=[df_MLR.columns[1]])"
      ]
    },
    {
      "cell_type": "code",
      "execution_count": null,
      "id": "db02091e",
      "metadata": {
        "id": "db02091e"
      },
      "outputs": [],
      "source": [
        "df_MLR.head(4)"
      ]
    },
    {
      "cell_type": "code",
      "execution_count": null,
      "id": "8d2d34b5",
      "metadata": {
        "id": "8d2d34b5"
      },
      "outputs": [],
      "source": [
        "df_MLR['A16treatment_mean'] = df_MLR[['A549_A16treatment_SWATH_1', 'A549_A16treatment_SWATH_2', 'A549_A16treatment_SWATH_3']].mean(axis=1)\n",
        "df_MLR['nontreatment_mean'] = df_MLR[['A549_nontreatment_SWATH_1', 'A549_nontreatment_SWATH_2', 'A549_nontreatment_SWATH_3']].mean(axis=1)"
      ]
    },
    {
      "cell_type": "code",
      "execution_count": null,
      "id": "e6d62bdf",
      "metadata": {
        "id": "e6d62bdf"
      },
      "outputs": [],
      "source": [
        "from scipy.stats import ttest_ind\n",
        "df_MLR['t_test'], df_MLR['p_value'] = ttest_ind(df_MLR[['A549_A16treatment_SWATH_1', 'A549_A16treatment_SWATH_2', 'A549_A16treatment_SWATH_3']], df_MLR[['A549_nontreatment_SWATH_1', 'A549_nontreatment_SWATH_2', 'A549_nontreatment_SWATH_3']], axis=1)"
      ]
    },
    {
      "cell_type": "code",
      "execution_count": null,
      "id": "5e94ac88",
      "metadata": {
        "id": "5e94ac88"
      },
      "outputs": [],
      "source": [
        "df_MLR.head(4)"
      ]
    },
    {
      "cell_type": "code",
      "execution_count": null,
      "id": "bae68519",
      "metadata": {
        "id": "bae68519"
      },
      "outputs": [],
      "source": [
        "df_MLR.shape"
      ]
    },
    {
      "cell_type": "code",
      "execution_count": null,
      "id": "5b743676",
      "metadata": {
        "id": "5b743676"
      },
      "outputs": [],
      "source": [
        "df_MLRrm = df_MLR[df_MLR['nontreatment_mean'] != 0]"
      ]
    },
    {
      "cell_type": "code",
      "execution_count": null,
      "id": "b6a5ed8a",
      "metadata": {
        "id": "b6a5ed8a"
      },
      "outputs": [],
      "source": [
        "df_MLRrm.shape"
      ]
    },
    {
      "cell_type": "code",
      "execution_count": null,
      "id": "aa0de7db",
      "metadata": {
        "scrolled": true,
        "id": "aa0de7db"
      },
      "outputs": [],
      "source": [
        "df_MLRrm = df_MLRrm.copy()\n",
        "df_MLRrm['FC_ACP/contrl'] = df_MLRrm['A16treatment_mean']/df_MLR['nontreatment_mean']\n",
        "df_MLRrm['log2(FC_ACP/contrl)'] = df_MLRrm['FC_ACP/contrl'].apply(np.log2)\n",
        "df_MLRrm['\"-log10(p_value)\"'] = -1 * df_MLRrm['p_value'].apply(np.log10)\n",
        "df_MLRrm['Protein'] = df_MLRrm['Sample Name'].str.split('|').str[2].str.split('_').str[0]"
      ]
    },
    {
      "cell_type": "code",
      "execution_count": null,
      "id": "565c8f21",
      "metadata": {
        "id": "565c8f21"
      },
      "outputs": [],
      "source": [
        "df_MLRrm.head(4)"
      ]
    },
    {
      "cell_type": "code",
      "execution_count": null,
      "id": "22fdcda5",
      "metadata": {
        "id": "22fdcda5"
      },
      "outputs": [],
      "source": [
        "df_MLRrm.columns"
      ]
    },
    {
      "cell_type": "code",
      "execution_count": null,
      "id": "6d80b6d5",
      "metadata": {
        "id": "6d80b6d5"
      },
      "outputs": [],
      "source": [
        "significant_peaks = df_MLRrm[df_MLRrm['p_value'] < 0.05]\n",
        "\n",
        "# set up plot\n",
        "fig, ax = plt.subplots()\n",
        "ax.scatter(df_MLRrm['log2(FC_ACP/contrl)'], df_MLRrm['\"-log10(p_value)\"'], color='blue', label='Non-significant')\n",
        "ax.scatter(significant_peaks['log2(FC_ACP/contrl)'], significant_peaks['\"-log10(p_value)\"'], color='red', label='Significant')\n",
        "ax.axhline(y=-np.log10(0.05), color='gray', linestyle='--')\n",
        "ax.axvline(x=1, color='gray', linestyle='--')\n",
        "ax.axvline(x=-1, color='gray', linestyle='--')\n",
        "ax.set_xlabel('log2(fold change)')\n",
        "ax.set_ylabel('-log10(p-value)')\n",
        "ax.set_title('Volcano plot')\n",
        "ax.legend()\n",
        "\n",
        "# add text labels for significant peaks\n",
        "for idx, row in significant_peaks.iterrows():\n",
        "    ax.text(row['log2(FC_ACP/contrl)'], row['\"-log10(p_value)\"'], row['Protein'], fontsize=6)\n",
        "\n",
        "# show plot\n",
        "#plt.show()\n",
        "plt.savefig('volcano_plot_manual.png', dpi=300, bbox_inches='tight')"
      ]
    },
    {
      "cell_type": "code",
      "execution_count": null,
      "id": "235dca99",
      "metadata": {
        "id": "235dca99"
      },
      "outputs": [],
      "source": [
        "df_MLRrm_sp = df_MLRrm[df_MLRrm['p_value'] < 0.05].sort_values(by=['p_value'], ascending=True)\n",
        "df_MLRrm_sp.to_csv('significant_peaks_remove_zero_MLR.csv', index=False, header=True)"
      ]
    },
    {
      "cell_type": "code",
      "execution_count": null,
      "id": "b232d2a1",
      "metadata": {
        "id": "b232d2a1"
      },
      "outputs": [],
      "source": [
        "df_MLR_sp = df_MLR[df_MLR['p_value'] < 0.05].sort_values(by=['p_value'], ascending=True)\n",
        "df_MLR_sp.to_csv('significant_peaks_MLR.csv', index=False, header=True)"
      ]
    },
    {
      "cell_type": "code",
      "source": [
        "# Set the name of the zip file you want to create\n",
        "zip_file_name = 'outputs.zip'\n",
        "\n",
        "# Create a list of all the files in the current directory\n",
        "file_list = os.listdir()\n",
        "\n",
        "# Create an empty list to store the paths of the output files\n",
        "output_file_paths = []\n",
        "\n",
        "# Loop through each file in the file list\n",
        "for file_name in file_list:\n",
        "  \n",
        "  # Check if the file is a .csv or .png file\n",
        "  if file_name.endswith('.csv') or file_name.endswith('.png'):\n",
        "    \n",
        "    # Add the file path to the list of output file paths\n",
        "    output_file_paths.append(os.path.join(os.getcwd(), file_name))\n",
        "\n",
        "# If there are output files, create a zip file and download it\n",
        "if len(output_file_paths) > 0:\n",
        "  \n",
        "  # Create a zip file of the output files\n",
        "  !zip -r $zip_file_name {' '.join(output_file_paths)}\n",
        "  \n",
        "  # Download the zip file\n",
        "  files.download(zip_file_name)\n",
        "  \n",
        "else:\n",
        "  print('No output files found')\n"
      ],
      "metadata": {
        "id": "DfmLpB5bH21j"
      },
      "id": "DfmLpB5bH21j",
      "execution_count": null,
      "outputs": []
    }
  ],
  "metadata": {
    "kernelspec": {
      "display_name": "Python 3 (ipykernel)",
      "language": "python",
      "name": "python3"
    },
    "language_info": {
      "codemirror_mode": {
        "name": "ipython",
        "version": 3
      },
      "file_extension": ".py",
      "mimetype": "text/x-python",
      "name": "python",
      "nbconvert_exporter": "python",
      "pygments_lexer": "ipython3",
      "version": "3.9.13"
    },
    "colab": {
      "provenance": []
    }
  },
  "nbformat": 4,
  "nbformat_minor": 5
}